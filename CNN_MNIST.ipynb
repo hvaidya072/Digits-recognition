{
  "nbformat": 4,
  "nbformat_minor": 0,
  "metadata": {
    "colab": {
      "name": "CNN MNIST.ipynb",
      "version": "0.3.2",
      "provenance": [],
      "collapsed_sections": []
    },
    "kernelspec": {
      "name": "python3",
      "display_name": "Python 3"
    },
    "accelerator": "GPU"
  },
  "cells": [
    {
      "metadata": {
        "id": "YKVyV-_Ui6zJ",
        "colab_type": "code",
        "colab": {}
      },
      "cell_type": "code",
      "source": [
        "import tensorflow as tf"
      ],
      "execution_count": 0,
      "outputs": []
    },
    {
      "metadata": {
        "id": "IlpEh-5bjT3B",
        "colab_type": "code",
        "colab": {}
      },
      "cell_type": "code",
      "source": [
        "from google.colab import drive\n"
      ],
      "execution_count": 0,
      "outputs": []
    },
    {
      "metadata": {
        "id": "2x83LaWejjoh",
        "colab_type": "code",
        "outputId": "7d71c9e8-c11f-478b-c763-548e2a1972fd",
        "colab": {
          "base_uri": "https://localhost:8080/",
          "height": 35
        }
      },
      "cell_type": "code",
      "source": [
        "ls"
      ],
      "execution_count": 0,
      "outputs": [
        {
          "output_type": "stream",
          "text": [
            "\u001b[0m\u001b[01;34msample_data\u001b[0m/\n"
          ],
          "name": "stdout"
        }
      ]
    },
    {
      "metadata": {
        "id": "v1AbZUjhjkzF",
        "colab_type": "code",
        "outputId": "06262538-4ae0-4296-d0e4-0076641080a4",
        "colab": {
          "base_uri": "https://localhost:8080/",
          "height": 126
        }
      },
      "cell_type": "code",
      "source": [
        "drive.mount('/content/drive/')"
      ],
      "execution_count": 0,
      "outputs": [
        {
          "output_type": "stream",
          "text": [
            "Go to this URL in a browser: https://accounts.google.com/o/oauth2/auth?client_id=947318989803-6bn6qk8qdgf4n4g3pfee6491hc0brc4i.apps.googleusercontent.com&redirect_uri=urn%3Aietf%3Awg%3Aoauth%3A2.0%3Aoob&scope=email%20https%3A%2F%2Fwww.googleapis.com%2Fauth%2Fdocs.test%20https%3A%2F%2Fwww.googleapis.com%2Fauth%2Fdrive%20https%3A%2F%2Fwww.googleapis.com%2Fauth%2Fdrive.photos.readonly%20https%3A%2F%2Fwww.googleapis.com%2Fauth%2Fpeopleapi.readonly&response_type=code\n",
            "\n",
            "Enter your authorization code:\n",
            "··········\n",
            "Mounted at /content/drive/\n"
          ],
          "name": "stdout"
        }
      ]
    },
    {
      "metadata": {
        "id": "hVyy5wNDjoj6",
        "colab_type": "code",
        "outputId": "335a2ce7-cbec-417a-cab5-f769cf32d1dd",
        "colab": {
          "base_uri": "https://localhost:8080/",
          "height": 35
        }
      },
      "cell_type": "code",
      "source": [
        "ls"
      ],
      "execution_count": 0,
      "outputs": [
        {
          "output_type": "stream",
          "text": [
            "\u001b[0m\u001b[01;34mdrive\u001b[0m/  \u001b[01;34msample_data\u001b[0m/\n"
          ],
          "name": "stdout"
        }
      ]
    },
    {
      "metadata": {
        "id": "-zCOipEAjrnA",
        "colab_type": "code",
        "colab": {}
      },
      "cell_type": "code",
      "source": [
        "from tensorflow.examples.tutorials.mnist import input_data"
      ],
      "execution_count": 0,
      "outputs": []
    },
    {
      "metadata": {
        "id": "oPMDhyERmV0w",
        "colab_type": "code",
        "outputId": "4a386fd2-f855-4948-aef9-494e499f77e4",
        "colab": {
          "base_uri": "https://localhost:8080/",
          "height": 555
        }
      },
      "cell_type": "code",
      "source": [
        "mnist = input_data.read_data_sets(\"MNIST_data/\", one_hot=True)"
      ],
      "execution_count": 0,
      "outputs": [
        {
          "output_type": "stream",
          "text": [
            "WARNING:tensorflow:From <ipython-input-7-a839aeb82f4b>:1: read_data_sets (from tensorflow.contrib.learn.python.learn.datasets.mnist) is deprecated and will be removed in a future version.\n",
            "Instructions for updating:\n",
            "Please use alternatives such as official/mnist/dataset.py from tensorflow/models.\n",
            "WARNING:tensorflow:From /usr/local/lib/python3.6/dist-packages/tensorflow/contrib/learn/python/learn/datasets/mnist.py:260: maybe_download (from tensorflow.contrib.learn.python.learn.datasets.base) is deprecated and will be removed in a future version.\n",
            "Instructions for updating:\n",
            "Please write your own downloading logic.\n",
            "WARNING:tensorflow:From /usr/local/lib/python3.6/dist-packages/tensorflow/contrib/learn/python/learn/datasets/base.py:252: _internal_retry.<locals>.wrap.<locals>.wrapped_fn (from tensorflow.contrib.learn.python.learn.datasets.base) is deprecated and will be removed in a future version.\n",
            "Instructions for updating:\n",
            "Please use urllib or similar directly.\n",
            "Successfully downloaded train-images-idx3-ubyte.gz 9912422 bytes.\n",
            "WARNING:tensorflow:From /usr/local/lib/python3.6/dist-packages/tensorflow/contrib/learn/python/learn/datasets/mnist.py:262: extract_images (from tensorflow.contrib.learn.python.learn.datasets.mnist) is deprecated and will be removed in a future version.\n",
            "Instructions for updating:\n",
            "Please use tf.data to implement this functionality.\n",
            "Extracting MNIST_data/train-images-idx3-ubyte.gz\n",
            "Successfully downloaded train-labels-idx1-ubyte.gz 28881 bytes.\n",
            "WARNING:tensorflow:From /usr/local/lib/python3.6/dist-packages/tensorflow/contrib/learn/python/learn/datasets/mnist.py:267: extract_labels (from tensorflow.contrib.learn.python.learn.datasets.mnist) is deprecated and will be removed in a future version.\n",
            "Instructions for updating:\n",
            "Please use tf.data to implement this functionality.\n",
            "Extracting MNIST_data/train-labels-idx1-ubyte.gz\n",
            "WARNING:tensorflow:From /usr/local/lib/python3.6/dist-packages/tensorflow/contrib/learn/python/learn/datasets/mnist.py:110: dense_to_one_hot (from tensorflow.contrib.learn.python.learn.datasets.mnist) is deprecated and will be removed in a future version.\n",
            "Instructions for updating:\n",
            "Please use tf.one_hot on tensors.\n",
            "Successfully downloaded t10k-images-idx3-ubyte.gz 1648877 bytes.\n",
            "Extracting MNIST_data/t10k-images-idx3-ubyte.gz\n",
            "Successfully downloaded t10k-labels-idx1-ubyte.gz 4542 bytes.\n",
            "Extracting MNIST_data/t10k-labels-idx1-ubyte.gz\n",
            "WARNING:tensorflow:From /usr/local/lib/python3.6/dist-packages/tensorflow/contrib/learn/python/learn/datasets/mnist.py:290: DataSet.__init__ (from tensorflow.contrib.learn.python.learn.datasets.mnist) is deprecated and will be removed in a future version.\n",
            "Instructions for updating:\n",
            "Please use alternatives such as official/mnist/dataset.py from tensorflow/models.\n"
          ],
          "name": "stdout"
        }
      ]
    },
    {
      "metadata": {
        "id": "-IohzfhKmgz-",
        "colab_type": "code",
        "outputId": "5f7932f1-50c3-4b50-aec7-7cecfc36d743",
        "colab": {
          "base_uri": "https://localhost:8080/",
          "height": 35
        }
      },
      "cell_type": "code",
      "source": [
        "ls"
      ],
      "execution_count": 0,
      "outputs": [
        {
          "output_type": "stream",
          "text": [
            "\u001b[0m\u001b[01;34mdrive\u001b[0m/  \u001b[01;34mMNIST_data\u001b[0m/  \u001b[01;34msample_data\u001b[0m/\n"
          ],
          "name": "stdout"
        }
      ]
    },
    {
      "metadata": {
        "id": "ZKwaEGQNrmT0",
        "colab_type": "text"
      },
      "cell_type": "markdown",
      "source": [
        "INIT WEIGHTS"
      ]
    },
    {
      "metadata": {
        "id": "Pv56TAo7roGX",
        "colab_type": "code",
        "colab": {}
      },
      "cell_type": "code",
      "source": [
        "def init_weights(shape):\n",
        "  init_random_dist = tf.truncated_normal(shape,stddev=0.1)\n",
        "  return tf.Variable(init_random_dist)"
      ],
      "execution_count": 0,
      "outputs": []
    },
    {
      "metadata": {
        "id": "PpccUVPgr1Ff",
        "colab_type": "code",
        "colab": {}
      },
      "cell_type": "code",
      "source": [
        "def init_bias(shape):\n",
        "  init_bias_vals = tf.constant(0.1, shape=shape)\n",
        "  return tf.Variable(init_bias_vals)"
      ],
      "execution_count": 0,
      "outputs": []
    },
    {
      "metadata": {
        "id": "kp6JFDWMsu_j",
        "colab_type": "text"
      },
      "cell_type": "markdown",
      "source": [
        "CREATE CONVOLUTION"
      ]
    },
    {
      "metadata": {
        "id": "QcgJSZrxswa4",
        "colab_type": "code",
        "colab": {}
      },
      "cell_type": "code",
      "source": [
        "def conv2d(x,W):\n",
        "  return tf.nn.conv2d(x, W, strides=[1,1,1,1], padding='SAME')"
      ],
      "execution_count": 0,
      "outputs": []
    },
    {
      "metadata": {
        "id": "WRKIa2FztdKN",
        "colab_type": "text"
      },
      "cell_type": "markdown",
      "source": [
        "MAX POOLING"
      ]
    },
    {
      "metadata": {
        "id": "XnldFJqOtP0Z",
        "colab_type": "code",
        "colab": {}
      },
      "cell_type": "code",
      "source": [
        "def max_pool_2x2(x):\n",
        "  return tf.nn.max_pool(x, ksize=[1,2,2,1], strides=[1,2,2,1], padding='SAME')"
      ],
      "execution_count": 0,
      "outputs": []
    },
    {
      "metadata": {
        "id": "mLykD529tx4D",
        "colab_type": "text"
      },
      "cell_type": "markdown",
      "source": [
        "CONVO LAYERS"
      ]
    },
    {
      "metadata": {
        "id": "Et-H4-9ktuj0",
        "colab_type": "code",
        "colab": {}
      },
      "cell_type": "code",
      "source": [
        "def convolutional_layer(input_x,shape):\n",
        "  W = init_weights(shape)\n",
        "  b = init_bias([shape[3]])\n",
        "  return tf.nn.relu(conv2d(input_x,W)+b)"
      ],
      "execution_count": 0,
      "outputs": []
    },
    {
      "metadata": {
        "id": "BrjsFD77zA5l",
        "colab_type": "text"
      },
      "cell_type": "markdown",
      "source": [
        "NORMAL LAYER"
      ]
    },
    {
      "metadata": {
        "id": "b7JGwgsiy-Lz",
        "colab_type": "code",
        "colab": {}
      },
      "cell_type": "code",
      "source": [
        "def normal_full_layer(input_layer,size):\n",
        "  input_size = int(input_layer.get_shape()[1])\n",
        "  W = init_weights([input_size,size])\n",
        "  b = init_bias([size])\n",
        "  return tf.matmul(input_layer, W) + b\n",
        "  "
      ],
      "execution_count": 0,
      "outputs": []
    },
    {
      "metadata": {
        "id": "zmBTpGjv1Zum",
        "colab_type": "text"
      },
      "cell_type": "markdown",
      "source": [
        "PLACEHOLDER"
      ]
    },
    {
      "metadata": {
        "id": "y8d3eIOH1YOb",
        "colab_type": "code",
        "colab": {}
      },
      "cell_type": "code",
      "source": [
        "x = tf.placeholder(tf.float32,shape=[None,784])"
      ],
      "execution_count": 0,
      "outputs": []
    },
    {
      "metadata": {
        "id": "MMv17KXN1sTr",
        "colab_type": "code",
        "colab": {}
      },
      "cell_type": "code",
      "source": [
        "y_true = tf.placeholder(tf.float32, shape=[None,10])"
      ],
      "execution_count": 0,
      "outputs": []
    },
    {
      "metadata": {
        "id": "aFNZpEps126T",
        "colab_type": "text"
      },
      "cell_type": "markdown",
      "source": [
        "LAYERS"
      ]
    },
    {
      "metadata": {
        "id": "bliutvHG1yq0",
        "colab_type": "code",
        "colab": {}
      },
      "cell_type": "code",
      "source": [
        "x_image = tf.reshape(x,[-1,28,28,1])"
      ],
      "execution_count": 0,
      "outputs": []
    },
    {
      "metadata": {
        "id": "ikRV2aqi3-3N",
        "colab_type": "code",
        "outputId": "9d2dabd1-c968-4062-d0ea-3624df882b94",
        "colab": {
          "base_uri": "https://localhost:8080/",
          "height": 71
        }
      },
      "cell_type": "code",
      "source": [
        "convo_1 = convolutional_layer(x_image,shape=[5,5,1,32])\n",
        "convo_1_pooling = max_pool_2x2(convo_1)"
      ],
      "execution_count": 0,
      "outputs": [
        {
          "output_type": "stream",
          "text": [
            "WARNING:tensorflow:From /usr/local/lib/python3.6/dist-packages/tensorflow/python/framework/op_def_library.py:263: colocate_with (from tensorflow.python.framework.ops) is deprecated and will be removed in a future version.\n",
            "Instructions for updating:\n",
            "Colocations handled automatically by placer.\n"
          ],
          "name": "stdout"
        }
      ]
    },
    {
      "metadata": {
        "id": "qDu6ndA_4tit",
        "colab_type": "code",
        "colab": {}
      },
      "cell_type": "code",
      "source": [
        "convo_2 = convolutional_layer(convo_1_pooling,shape=[5,5,32,64])\n",
        "convo_2_pooling = max_pool_2x2(convo_2)"
      ],
      "execution_count": 0,
      "outputs": []
    },
    {
      "metadata": {
        "id": "bT1pBGri5be9",
        "colab_type": "code",
        "colab": {}
      },
      "cell_type": "code",
      "source": [
        "convo_2_flat = tf.reshape(convo_2_pooling,[-1,7*7*64])\n",
        "full_layer_one = tf.nn.relu(normal_full_layer(convo_2_flat,1024))"
      ],
      "execution_count": 0,
      "outputs": []
    },
    {
      "metadata": {
        "id": "QvMEh1685lYN",
        "colab_type": "code",
        "outputId": "1789199e-1b40-4af2-9ea0-3d0414052131",
        "colab": {
          "base_uri": "https://localhost:8080/",
          "height": 71
        }
      },
      "cell_type": "code",
      "source": [
        "hold_prob = tf.placeholder(tf.float32)\n",
        "full_one_dropout = tf.nn.dropout(full_layer_one, keep_prob=hold_prob)"
      ],
      "execution_count": 0,
      "outputs": [
        {
          "output_type": "stream",
          "text": [
            "WARNING:tensorflow:From <ipython-input-21-9ba37e570df2>:2: calling dropout (from tensorflow.python.ops.nn_ops) with keep_prob is deprecated and will be removed in a future version.\n",
            "Instructions for updating:\n",
            "Please use `rate` instead of `keep_prob`. Rate should be set to `rate = 1 - keep_prob`.\n"
          ],
          "name": "stdout"
        }
      ]
    },
    {
      "metadata": {
        "id": "nOYxmMIbQqex",
        "colab_type": "code",
        "colab": {}
      },
      "cell_type": "code",
      "source": [
        "y_pred = normal_full_layer(full_one_dropout,10)"
      ],
      "execution_count": 0,
      "outputs": []
    },
    {
      "metadata": {
        "id": "Z8nee4WBRB0B",
        "colab_type": "text"
      },
      "cell_type": "markdown",
      "source": [
        "LOSS FUNCTION"
      ]
    },
    {
      "metadata": {
        "id": "Jc6f_MpMQ60w",
        "colab_type": "code",
        "outputId": "3fe28a03-396e-4241-99cd-b028cb3fcd3b",
        "colab": {
          "base_uri": "https://localhost:8080/",
          "height": 160
        }
      },
      "cell_type": "code",
      "source": [
        "cross_entropy = tf.reduce_mean(tf.nn.softmax_cross_entropy_with_logits(labels=y_true,logits=y_pred))"
      ],
      "execution_count": 0,
      "outputs": [
        {
          "output_type": "stream",
          "text": [
            "WARNING:tensorflow:From <ipython-input-23-e0c07892321c>:1: softmax_cross_entropy_with_logits (from tensorflow.python.ops.nn_ops) is deprecated and will be removed in a future version.\n",
            "Instructions for updating:\n",
            "\n",
            "Future major versions of TensorFlow will allow gradients to flow\n",
            "into the labels input on backprop by default.\n",
            "\n",
            "See `tf.nn.softmax_cross_entropy_with_logits_v2`.\n",
            "\n"
          ],
          "name": "stdout"
        }
      ]
    },
    {
      "metadata": {
        "id": "70zFxNc_RYyy",
        "colab_type": "text"
      },
      "cell_type": "markdown",
      "source": [
        "OPTIMIZER"
      ]
    },
    {
      "metadata": {
        "id": "WeP9MuUWRU9Q",
        "colab_type": "code",
        "colab": {}
      },
      "cell_type": "code",
      "source": [
        "optimizer = tf.train.AdamOptimizer(learning_rate=0.001)\n",
        "train = optimizer.minimize(cross_entropy)"
      ],
      "execution_count": 0,
      "outputs": []
    },
    {
      "metadata": {
        "id": "J10LzxEER5mI",
        "colab_type": "text"
      },
      "cell_type": "markdown",
      "source": [
        "INIT VARIABLES"
      ]
    },
    {
      "metadata": {
        "id": "fX5ebZakRwp4",
        "colab_type": "code",
        "colab": {}
      },
      "cell_type": "code",
      "source": [
        "init = tf.global_variables_initializer()"
      ],
      "execution_count": 0,
      "outputs": []
    },
    {
      "metadata": {
        "id": "VNqiyKMvSBoB",
        "colab_type": "text"
      },
      "cell_type": "markdown",
      "source": [
        "SESSION"
      ]
    },
    {
      "metadata": {
        "id": "S06JHt_rSAFg",
        "colab_type": "code",
        "outputId": "37959492-2256-419f-c034-2514a78a22a3",
        "colab": {
          "base_uri": "https://localhost:8080/",
          "height": 4484
        }
      },
      "cell_type": "code",
      "source": [
        "steps = 5000\n",
        "\n",
        "with tf.Session() as sess:\n",
        "  sess.run(init)\n",
        "  for i in range(steps):\n",
        "    \n",
        "    batch_x, batch_y = mnist.train.next_batch(50)\n",
        "    \n",
        "    sess.run(train, feed_dict={x:batch_x,y_true:batch_y,hold_prob:0.5})\n",
        "    # PRINT OUT A MESSAGE EVERY 100 STEPS\n",
        "    if i%100 == 0:\n",
        "\n",
        "        print('Currently on step {}'.format(i))\n",
        "        print('Accuracy is:')\n",
        "        # Test the Train Model\n",
        "        matches = tf.equal(tf.argmax(y_pred,1),tf.argmax(y_true,1))\n",
        "\n",
        "        acc = tf.reduce_mean(tf.cast(matches,tf.float32))\n",
        "\n",
        "        print(sess.run(acc,feed_dict={x:mnist.test.images,y_true:mnist.test.labels,hold_prob:1.0}))\n",
        "        print('\\n')\n"
      ],
      "execution_count": 0,
      "outputs": [
        {
          "output_type": "stream",
          "text": [
            "Currently on step 0\n",
            "Accuracy is:\n",
            "0.1309\n",
            "\n",
            "\n",
            "Currently on step 100\n",
            "Accuracy is:\n",
            "0.9435\n",
            "\n",
            "\n",
            "Currently on step 200\n",
            "Accuracy is:\n",
            "0.9551\n",
            "\n",
            "\n",
            "Currently on step 300\n",
            "Accuracy is:\n",
            "0.9646\n",
            "\n",
            "\n",
            "Currently on step 400\n",
            "Accuracy is:\n",
            "0.9705\n",
            "\n",
            "\n",
            "Currently on step 500\n",
            "Accuracy is:\n",
            "0.971\n",
            "\n",
            "\n",
            "Currently on step 600\n",
            "Accuracy is:\n",
            "0.9783\n",
            "\n",
            "\n",
            "Currently on step 700\n",
            "Accuracy is:\n",
            "0.9819\n",
            "\n",
            "\n",
            "Currently on step 800\n",
            "Accuracy is:\n",
            "0.9823\n",
            "\n",
            "\n",
            "Currently on step 900\n",
            "Accuracy is:\n",
            "0.9833\n",
            "\n",
            "\n",
            "Currently on step 1000\n",
            "Accuracy is:\n",
            "0.9854\n",
            "\n",
            "\n",
            "Currently on step 1100\n",
            "Accuracy is:\n",
            "0.9858\n",
            "\n",
            "\n",
            "Currently on step 1200\n",
            "Accuracy is:\n",
            "0.9867\n",
            "\n",
            "\n",
            "Currently on step 1300\n",
            "Accuracy is:\n",
            "0.9843\n",
            "\n",
            "\n",
            "Currently on step 1400\n",
            "Accuracy is:\n",
            "0.9856\n",
            "\n",
            "\n",
            "Currently on step 1500\n",
            "Accuracy is:\n",
            "0.9865\n",
            "\n",
            "\n",
            "Currently on step 1600\n",
            "Accuracy is:\n",
            "0.9875\n",
            "\n",
            "\n",
            "Currently on step 1700\n",
            "Accuracy is:\n",
            "0.9882\n",
            "\n",
            "\n",
            "Currently on step 1800\n",
            "Accuracy is:\n",
            "0.9887\n",
            "\n",
            "\n",
            "Currently on step 1900\n",
            "Accuracy is:\n",
            "0.9863\n",
            "\n",
            "\n",
            "Currently on step 2000\n",
            "Accuracy is:\n",
            "0.987\n",
            "\n",
            "\n",
            "Currently on step 2100\n",
            "Accuracy is:\n",
            "0.9871\n",
            "\n",
            "\n",
            "Currently on step 2200\n",
            "Accuracy is:\n",
            "0.9875\n",
            "\n",
            "\n",
            "Currently on step 2300\n",
            "Accuracy is:\n",
            "0.9876\n",
            "\n",
            "\n",
            "Currently on step 2400\n",
            "Accuracy is:\n",
            "0.988\n",
            "\n",
            "\n",
            "Currently on step 2500\n",
            "Accuracy is:\n",
            "0.9862\n",
            "\n",
            "\n",
            "Currently on step 2600\n",
            "Accuracy is:\n",
            "0.9899\n",
            "\n",
            "\n",
            "Currently on step 2700\n",
            "Accuracy is:\n",
            "0.9891\n",
            "\n",
            "\n",
            "Currently on step 2800\n",
            "Accuracy is:\n",
            "0.988\n",
            "\n",
            "\n",
            "Currently on step 2900\n",
            "Accuracy is:\n",
            "0.9896\n",
            "\n",
            "\n",
            "Currently on step 3000\n",
            "Accuracy is:\n",
            "0.9886\n",
            "\n",
            "\n",
            "Currently on step 3100\n",
            "Accuracy is:\n",
            "0.9887\n",
            "\n",
            "\n",
            "Currently on step 3200\n",
            "Accuracy is:\n",
            "0.9892\n",
            "\n",
            "\n",
            "Currently on step 3300\n",
            "Accuracy is:\n",
            "0.9897\n",
            "\n",
            "\n",
            "Currently on step 3400\n",
            "Accuracy is:\n",
            "0.9884\n",
            "\n",
            "\n",
            "Currently on step 3500\n",
            "Accuracy is:\n",
            "0.9878\n",
            "\n",
            "\n",
            "Currently on step 3600\n",
            "Accuracy is:\n",
            "0.9882\n",
            "\n",
            "\n",
            "Currently on step 3700\n",
            "Accuracy is:\n",
            "0.99\n",
            "\n",
            "\n",
            "Currently on step 3800\n",
            "Accuracy is:\n",
            "0.9908\n",
            "\n",
            "\n",
            "Currently on step 3900\n",
            "Accuracy is:\n",
            "0.9887\n",
            "\n",
            "\n",
            "Currently on step 4000\n",
            "Accuracy is:\n",
            "0.9922\n",
            "\n",
            "\n",
            "Currently on step 4100\n",
            "Accuracy is:\n",
            "0.9867\n",
            "\n",
            "\n",
            "Currently on step 4200\n",
            "Accuracy is:\n",
            "0.9899\n",
            "\n",
            "\n",
            "Currently on step 4300\n",
            "Accuracy is:\n",
            "0.9887\n",
            "\n",
            "\n",
            "Currently on step 4400\n",
            "Accuracy is:\n",
            "0.9898\n",
            "\n",
            "\n",
            "Currently on step 4500\n",
            "Accuracy is:\n",
            "0.9899\n",
            "\n",
            "\n",
            "Currently on step 4600\n",
            "Accuracy is:\n",
            "0.9907\n",
            "\n",
            "\n",
            "Currently on step 4700\n",
            "Accuracy is:\n",
            "0.9888\n",
            "\n",
            "\n",
            "Currently on step 4800\n",
            "Accuracy is:\n",
            "0.9907\n",
            "\n",
            "\n",
            "Currently on step 4900\n",
            "Accuracy is:\n",
            "0.9896\n",
            "\n",
            "\n"
          ],
          "name": "stdout"
        }
      ]
    },
    {
      "metadata": {
        "id": "-x7Qo7ciUOnC",
        "colab_type": "code",
        "colab": {}
      },
      "cell_type": "code",
      "source": [
        ""
      ],
      "execution_count": 0,
      "outputs": []
    }
  ]
}